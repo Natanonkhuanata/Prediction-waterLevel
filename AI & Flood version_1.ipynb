{
 "cells": [
  {
   "cell_type": "code",
   "execution_count": 122,
   "id": "2b8352c8-92b8-48e8-b9be-7a8b2ac176ee",
   "metadata": {},
   "outputs": [
    {
     "name": "stdout",
     "output_type": "stream",
     "text": [
      "2.2.2\n"
     ]
    }
   ],
   "source": [
    "import pandas as pd\n",
    "print(pd.__version__) # cheack version pandas"
   ]
  },
  {
   "cell_type": "code",
   "execution_count": 123,
   "id": "a7848321-49fb-43f2-9795-ce1052d204fb",
   "metadata": {},
   "outputs": [
    {
     "name": "stdout",
     "output_type": "stream",
     "text": [
      "2.17.0\n"
     ]
    }
   ],
   "source": [
    "import tensorflow as tf\n",
    "print(tf.__version__) # check version tensorflow"
   ]
  },
  {
   "cell_type": "markdown",
   "id": "f0773289-b0f0-4cc5-9bf7-6c5d0e0805d3",
   "metadata": {},
   "source": [
    "ขั้นตอนที่ 1 คือ การอ่านข้อมูลด้วย pandas เเละ เช็คว่าข้อมูลสูญหาย หรือ missing data หรือเปล่า"
   ]
  },
  {
   "cell_type": "code",
   "execution_count": 125,
   "id": "adde6209-aa97-4e18-9d88-91e495ab8165",
   "metadata": {},
   "outputs": [
    {
     "name": "stdout",
     "output_type": "stream",
     "text": [
      "            timestamp  rain  water_level\n",
      "0 2024-09-01 00:00:00     0        0.000\n",
      "1 2024-09-01 00:01:00     1        0.025\n",
      "2 2024-09-01 00:02:00     0        0.010\n",
      "3 2024-09-01 00:03:00     0        0.000\n",
      "4 2024-09-01 00:04:00     0        0.000\n",
      "<class 'pandas.core.frame.DataFrame'>\n",
      "RangeIndex: 43200 entries, 0 to 43199\n",
      "Data columns (total 3 columns):\n",
      " #   Column       Non-Null Count  Dtype         \n",
      "---  ------       --------------  -----         \n",
      " 0   timestamp    43200 non-null  datetime64[ns]\n",
      " 1   rain         43200 non-null  int64         \n",
      " 2   water_level  43200 non-null  float64       \n",
      "dtypes: datetime64[ns](1), float64(1), int64(1)\n",
      "memory usage: 1012.6 KB\n",
      "None\n"
     ]
    }
   ],
   "source": [
    "import pandas as pd\n",
    "\n",
    "# เป็นการ read data เเละเช็คว่าข้อใูลครบไหม มี missing หรือ เปล่า มีข้อมูลสูญหายหรือเปล่า\n",
    "df = pd.read_excel(\"simulated_flood_data_1month.xlsx\")\n",
    "print(df.head())\n",
    "print(df.info()) # ดูว่ามี missing (NaN) หรือไม่\n"
   ]
  },
  {
   "cell_type": "code",
   "execution_count": 126,
   "id": "4542ac7e-0d84-40a2-9846-ecf07781e89a",
   "metadata": {},
   "outputs": [
    {
     "name": "stdout",
     "output_type": "stream",
     "text": [
      "timestamp      0\n",
      "rain           0\n",
      "water_level    0\n",
      "dtype: int64\n"
     ]
    }
   ],
   "source": [
    "print(df.isnull().sum()) # ตรวจสอบว่ามีข้อมูลสูญหายหรือป่าว"
   ]
  },
  {
   "cell_type": "markdown",
   "id": "db52c670-a90c-424e-8d4b-1a7b6c0d7bab",
   "metadata": {},
   "source": [
    "❓ Missing Data คืออะไร?\n",
    "Missing data (ข้อมูลที่ขาดหาย) คือ ค่าที่หายไปหรือว่างเปล่า ในชุดข้อมูล — ซึ่งอาจเกิดจาก:\n",
    "\n",
    "ไม่มีการบันทึกค่าตอนนั้น\n",
    "\n",
    "เครื่องมือวัดเสีย\n",
    "\n",
    "ข้อมูลสูญหายระหว่างการเก็บหรือส่ง\n",
    "\n",
    "มีค่าที่ไม่สามารถวัดได้จริง ๆ"
   ]
  },
  {
   "cell_type": "markdown",
   "id": "90aa148e-2790-4481-a672-70d456c242dd",
   "metadata": {},
   "source": [
    "ถ้ามี missing value จะมีคำว่า NaN ขั้นใน เเถวนั้น"
   ]
  },
  {
   "cell_type": "code",
   "execution_count": 129,
   "id": "77cd6938-afca-492b-8843-e24eddc6245e",
   "metadata": {},
   "outputs": [
    {
     "data": {
      "text/html": [
       "<div>\n",
       "<style scoped>\n",
       "    .dataframe tbody tr th:only-of-type {\n",
       "        vertical-align: middle;\n",
       "    }\n",
       "\n",
       "    .dataframe tbody tr th {\n",
       "        vertical-align: top;\n",
       "    }\n",
       "\n",
       "    .dataframe thead th {\n",
       "        text-align: right;\n",
       "    }\n",
       "</style>\n",
       "<table border=\"1\" class=\"dataframe\">\n",
       "  <thead>\n",
       "    <tr style=\"text-align: right;\">\n",
       "      <th></th>\n",
       "      <th>timestamp</th>\n",
       "      <th>rain</th>\n",
       "      <th>water_level</th>\n",
       "    </tr>\n",
       "  </thead>\n",
       "  <tbody>\n",
       "    <tr>\n",
       "      <th>0</th>\n",
       "      <td>2024-09-01 00:00:00</td>\n",
       "      <td>0</td>\n",
       "      <td>0.000</td>\n",
       "    </tr>\n",
       "    <tr>\n",
       "      <th>1</th>\n",
       "      <td>2024-09-01 00:01:00</td>\n",
       "      <td>1</td>\n",
       "      <td>0.025</td>\n",
       "    </tr>\n",
       "    <tr>\n",
       "      <th>2</th>\n",
       "      <td>2024-09-01 00:02:00</td>\n",
       "      <td>0</td>\n",
       "      <td>0.010</td>\n",
       "    </tr>\n",
       "    <tr>\n",
       "      <th>3</th>\n",
       "      <td>2024-09-01 00:03:00</td>\n",
       "      <td>0</td>\n",
       "      <td>0.000</td>\n",
       "    </tr>\n",
       "    <tr>\n",
       "      <th>4</th>\n",
       "      <td>2024-09-01 00:04:00</td>\n",
       "      <td>0</td>\n",
       "      <td>0.000</td>\n",
       "    </tr>\n",
       "    <tr>\n",
       "      <th>...</th>\n",
       "      <td>...</td>\n",
       "      <td>...</td>\n",
       "      <td>...</td>\n",
       "    </tr>\n",
       "    <tr>\n",
       "      <th>43195</th>\n",
       "      <td>2024-09-30 23:55:00</td>\n",
       "      <td>0</td>\n",
       "      <td>0.040</td>\n",
       "    </tr>\n",
       "    <tr>\n",
       "      <th>43196</th>\n",
       "      <td>2024-09-30 23:56:00</td>\n",
       "      <td>0</td>\n",
       "      <td>0.025</td>\n",
       "    </tr>\n",
       "    <tr>\n",
       "      <th>43197</th>\n",
       "      <td>2024-09-30 23:57:00</td>\n",
       "      <td>0</td>\n",
       "      <td>0.010</td>\n",
       "    </tr>\n",
       "    <tr>\n",
       "      <th>43198</th>\n",
       "      <td>2024-09-30 23:58:00</td>\n",
       "      <td>0</td>\n",
       "      <td>0.000</td>\n",
       "    </tr>\n",
       "    <tr>\n",
       "      <th>43199</th>\n",
       "      <td>2024-09-30 23:59:00</td>\n",
       "      <td>0</td>\n",
       "      <td>0.000</td>\n",
       "    </tr>\n",
       "  </tbody>\n",
       "</table>\n",
       "<p>43200 rows × 3 columns</p>\n",
       "</div>"
      ],
      "text/plain": [
       "                timestamp  rain  water_level\n",
       "0     2024-09-01 00:00:00     0        0.000\n",
       "1     2024-09-01 00:01:00     1        0.025\n",
       "2     2024-09-01 00:02:00     0        0.010\n",
       "3     2024-09-01 00:03:00     0        0.000\n",
       "4     2024-09-01 00:04:00     0        0.000\n",
       "...                   ...   ...          ...\n",
       "43195 2024-09-30 23:55:00     0        0.040\n",
       "43196 2024-09-30 23:56:00     0        0.025\n",
       "43197 2024-09-30 23:57:00     0        0.010\n",
       "43198 2024-09-30 23:58:00     0        0.000\n",
       "43199 2024-09-30 23:59:00     0        0.000\n",
       "\n",
       "[43200 rows x 3 columns]"
      ]
     },
     "execution_count": 129,
     "metadata": {},
     "output_type": "execute_result"
    }
   ],
   "source": [
    "data = df.sort_values('timestamp').reset_index(drop=True).copy()\n",
    "data"
   ]
  },
  {
   "cell_type": "code",
   "execution_count": 130,
   "id": "cadb9dd0-682f-41f3-afde-9676103f259a",
   "metadata": {},
   "outputs": [
    {
     "data": {
      "text/html": [
       "<div>\n",
       "<style scoped>\n",
       "    .dataframe tbody tr th:only-of-type {\n",
       "        vertical-align: middle;\n",
       "    }\n",
       "\n",
       "    .dataframe tbody tr th {\n",
       "        vertical-align: top;\n",
       "    }\n",
       "\n",
       "    .dataframe thead th {\n",
       "        text-align: right;\n",
       "    }\n",
       "</style>\n",
       "<table border=\"1\" class=\"dataframe\">\n",
       "  <thead>\n",
       "    <tr style=\"text-align: right;\">\n",
       "      <th></th>\n",
       "      <th>date</th>\n",
       "      <th>x</th>\n",
       "      <th>y</th>\n",
       "    </tr>\n",
       "  </thead>\n",
       "  <tbody>\n",
       "    <tr>\n",
       "      <th>0</th>\n",
       "      <td>2024-09-01 00:00:00</td>\n",
       "      <td>0</td>\n",
       "      <td>0.000</td>\n",
       "    </tr>\n",
       "    <tr>\n",
       "      <th>1</th>\n",
       "      <td>2024-09-01 00:01:00</td>\n",
       "      <td>1</td>\n",
       "      <td>0.025</td>\n",
       "    </tr>\n",
       "    <tr>\n",
       "      <th>2</th>\n",
       "      <td>2024-09-01 00:02:00</td>\n",
       "      <td>0</td>\n",
       "      <td>0.010</td>\n",
       "    </tr>\n",
       "    <tr>\n",
       "      <th>3</th>\n",
       "      <td>2024-09-01 00:03:00</td>\n",
       "      <td>0</td>\n",
       "      <td>0.000</td>\n",
       "    </tr>\n",
       "    <tr>\n",
       "      <th>4</th>\n",
       "      <td>2024-09-01 00:04:00</td>\n",
       "      <td>0</td>\n",
       "      <td>0.000</td>\n",
       "    </tr>\n",
       "    <tr>\n",
       "      <th>...</th>\n",
       "      <td>...</td>\n",
       "      <td>...</td>\n",
       "      <td>...</td>\n",
       "    </tr>\n",
       "    <tr>\n",
       "      <th>43195</th>\n",
       "      <td>2024-09-30 23:55:00</td>\n",
       "      <td>0</td>\n",
       "      <td>0.040</td>\n",
       "    </tr>\n",
       "    <tr>\n",
       "      <th>43196</th>\n",
       "      <td>2024-09-30 23:56:00</td>\n",
       "      <td>0</td>\n",
       "      <td>0.025</td>\n",
       "    </tr>\n",
       "    <tr>\n",
       "      <th>43197</th>\n",
       "      <td>2024-09-30 23:57:00</td>\n",
       "      <td>0</td>\n",
       "      <td>0.010</td>\n",
       "    </tr>\n",
       "    <tr>\n",
       "      <th>43198</th>\n",
       "      <td>2024-09-30 23:58:00</td>\n",
       "      <td>0</td>\n",
       "      <td>0.000</td>\n",
       "    </tr>\n",
       "    <tr>\n",
       "      <th>43199</th>\n",
       "      <td>2024-09-30 23:59:00</td>\n",
       "      <td>0</td>\n",
       "      <td>0.000</td>\n",
       "    </tr>\n",
       "  </tbody>\n",
       "</table>\n",
       "<p>43200 rows × 3 columns</p>\n",
       "</div>"
      ],
      "text/plain": [
       "                     date  x      y\n",
       "0     2024-09-01 00:00:00  0  0.000\n",
       "1     2024-09-01 00:01:00  1  0.025\n",
       "2     2024-09-01 00:02:00  0  0.010\n",
       "3     2024-09-01 00:03:00  0  0.000\n",
       "4     2024-09-01 00:04:00  0  0.000\n",
       "...                   ... ..    ...\n",
       "43195 2024-09-30 23:55:00  0  0.040\n",
       "43196 2024-09-30 23:56:00  0  0.025\n",
       "43197 2024-09-30 23:57:00  0  0.010\n",
       "43198 2024-09-30 23:58:00  0  0.000\n",
       "43199 2024-09-30 23:59:00  0  0.000\n",
       "\n",
       "[43200 rows x 3 columns]"
      ]
     },
     "execution_count": 130,
     "metadata": {},
     "output_type": "execute_result"
    }
   ],
   "source": [
    "df[['timestamp','rain','water_level']]\n",
    "df.columns=['date','x','y']\n",
    "df"
   ]
  },
  {
   "cell_type": "markdown",
   "id": "8a5d8dea-492a-477e-94b5-4d2ddd796f64",
   "metadata": {},
   "source": [
    "ขั้นตอนที่ 2 แปลง timestamp และตั้ง index (optional แต่ช่วยให้วิเคราะห์ง่าย)"
   ]
  },
  {
   "cell_type": "code",
   "execution_count": 132,
   "id": "15227457-213f-4759-bd07-47af931bf245",
   "metadata": {},
   "outputs": [],
   "source": [
    "# แปลง timestamp และตั้ง index (optional แต่ช่วยให้วิเคราะห์ง่าย)\n",
    "df['date'] = pd.to_datetime(df['date'])\n",
    "df.set_index('date', inplace=True) #จะทำให้คอลัมน์ timestamp กลายเป็น index ของ DataFrame                                     \n",
    "#การตั้งค่า inplace=True หมายความว่าเราต้องการให้การเปลี่ยนแปลงนี้เกิดขึ้นโดยตรงกับ DataFrame เดิม โดยไม่ต้องสร้าง DataFrame ใหม่"
   ]
  },
  {
   "cell_type": "code",
   "execution_count": 133,
   "id": "2568c36f-27cf-471a-a9dd-34b2ee264a84",
   "metadata": {},
   "outputs": [
    {
     "data": {
      "image/png": "[encoded data removed]",
      "text/plain": [
       "<Figure size 1500x500 with 2 Axes>"
      ]
     },
     "metadata": {},
     "output_type": "display_data"
    }
   ],
   "source": [
    "#  วิเคราะห์ข้อมูลเบื้องต้น (EDA) ด้วย matplotlib\n",
    "df[['x', 'y']].plot(subplots=True, figsize=(15,5))\n",
    "plt.show()"
   ]
  },
  {
   "cell_type": "markdown",
   "id": "f7a52e93-b8fa-46e8-91da-64b5985d9830",
   "metadata": {},
   "source": [
    "Normalize ข้อมูลให้มีค่า [0,-1]"
   ]
  },
  {
   "cell_type": "code",
   "execution_count": 141,
   "id": "580c95a3-7d27-48ad-a70d-ba52ed19eeed",
   "metadata": {},
   "outputs": [],
   "source": [
    "from sklearn.preprocessing import MinMaxScaler\n",
    "\n",
    "# Normalize data\n",
    "scaler = MinMaxScaler()\n",
    "scaled = scaler.fit_transform(df[['x', 'y']]) # ทำการ Normalize data ที่ใช้ คือ rain เเละ water_level"
   ]
  },
  {
   "cell_type": "markdown",
   "id": "28b51c6c-0b37-4f7a-8f73-1d8f1cba5425",
   "metadata": {},
   "source": [
    "ขั้นตอนนี้เป็นขั้นตอนที่ สำคัญที่สุด คือการเตรียมข้อมูล Time series เพื่อนำไปใช้ใน model LSTM"
   ]
  },
  {
   "cell_type": "code",
   "execution_count": 149,
   "id": "ad7555fe-dc41-4c5a-b4ff-31dcae28612e",
   "metadata": {},
   "outputs": [],
   "source": [
    "import numpy as np\n",
    "\n",
    "def create_sequences(data, time_steps=60, predict_steps=10):\n",
    "    X, y = [], []\n",
    "    for i in range(len(data) - time_steps - predict_steps):\n",
    "        X.append(data[i:(i + time_steps)])\n",
    "        y.append(data[i + time_steps + predict_steps - 1, 1])  # column 1 = water_level\n",
    "    return np.array(X), np.array(y)\n",
    "\n",
    "X, y = create_sequences(scaled, time_steps=60, predict_steps=10)"
   ]
  },
  {
   "cell_type": "code",
   "execution_count": 151,
   "id": "49ac01de-a4db-4735-a934-61d41cb0df4e",
   "metadata": {},
   "outputs": [
    {
     "name": "stderr",
     "output_type": "stream",
     "text": [
      "C:\\Users\\User\\AppData\\Roaming\\Python\\Python312\\site-packages\\keras\\src\\layers\\rnn\\rnn.py:204: UserWarning: Do not pass an `input_shape`/`input_dim` argument to a layer. When using Sequential models, prefer using an `Input(shape)` object as the first layer in the model instead.\n",
      "  super().__init__(**kwargs)\n"
     ]
    },
    {
     "name": "stdout",
     "output_type": "stream",
     "text": [
      "Epoch 1/10\n",
      "\u001b[1m1348/1348\u001b[0m \u001b[32m━━━━━━━━━━━━━━━━━━━━\u001b[0m\u001b[37m\u001b[0m \u001b[1m12s\u001b[0m 8ms/step - loss: 0.0100\n",
      "Epoch 2/10\n",
      "\u001b[1m1348/1348\u001b[0m \u001b[32m━━━━━━━━━━━━━━━━━━━━\u001b[0m\u001b[37m\u001b[0m \u001b[1m11s\u001b[0m 8ms/step - loss: 0.0084\n",
      "Epoch 3/10\n",
      "\u001b[1m1348/1348\u001b[0m \u001b[32m━━━━━━━━━━━━━━━━━━━━\u001b[0m\u001b[37m\u001b[0m \u001b[1m11s\u001b[0m 8ms/step - loss: 0.0084\n",
      "Epoch 4/10\n",
      "\u001b[1m1348/1348\u001b[0m \u001b[32m━━━━━━━━━━━━━━━━━━━━\u001b[0m\u001b[37m\u001b[0m \u001b[1m12s\u001b[0m 9ms/step - loss: 0.0083\n",
      "Epoch 5/10\n",
      "\u001b[1m1348/1348\u001b[0m \u001b[32m━━━━━━━━━━━━━━━━━━━━\u001b[0m\u001b[37m\u001b[0m \u001b[1m11s\u001b[0m 8ms/step - loss: 0.0083\n",
      "Epoch 6/10\n",
      "\u001b[1m1348/1348\u001b[0m \u001b[32m━━━━━━━━━━━━━━━━━━━━\u001b[0m\u001b[37m\u001b[0m \u001b[1m12s\u001b[0m 9ms/step - loss: 0.0083\n",
      "Epoch 7/10\n",
      "\u001b[1m1348/1348\u001b[0m \u001b[32m━━━━━━━━━━━━━━━━━━━━\u001b[0m\u001b[37m\u001b[0m \u001b[1m12s\u001b[0m 9ms/step - loss: 0.0084\n",
      "Epoch 8/10\n",
      "\u001b[1m1348/1348\u001b[0m \u001b[32m━━━━━━━━━━━━━━━━━━━━\u001b[0m\u001b[37m\u001b[0m \u001b[1m11s\u001b[0m 8ms/step - loss: 0.0082\n",
      "Epoch 9/10\n",
      "\u001b[1m1348/1348\u001b[0m \u001b[32m━━━━━━━━━━━━━━━━━━━━\u001b[0m\u001b[37m\u001b[0m \u001b[1m12s\u001b[0m 9ms/step - loss: 0.0083\n",
      "Epoch 10/10\n",
      "\u001b[1m1348/1348\u001b[0m \u001b[32m━━━━━━━━━━━━━━━━━━━━\u001b[0m\u001b[37m\u001b[0m \u001b[1m12s\u001b[0m 9ms/step - loss: 0.0083\n"
     ]
    },
    {
     "data": {
      "text/plain": [
       "<keras.src.callbacks.history.History at 0x20d67133890>"
      ]
     },
     "execution_count": 151,
     "metadata": {},
     "output_type": "execute_result"
    }
   ],
   "source": [
    "from tensorflow.keras.models import Sequential\n",
    "from tensorflow.keras.layers import LSTM, Dense\n",
    "\n",
    "model = Sequential([\n",
    "    LSTM(64, input_shape=(60, 2)),  # 60 time steps, 2 features\n",
    "    Dense(1)\n",
    "])\n",
    "model.compile(optimizer='adam', loss='mse')\n",
    "model.fit(X, y, epochs=10, batch_size=32)\n"
   ]
  },
  {
   "cell_type": "code",
   "execution_count": 185,
   "id": "546a1f0d-6082-4c86-808b-59588575466e",
   "metadata": {},
   "outputs": [],
   "source": [
    "# สมมุติว่าเรามี scaled test data แล้ว (อาจเป็นส่วนท้ายของข้อมูล)\n",
    "X_test = scaled[-30:]  # เลือก 60 นาทีล่าสุด\n",
    "\n",
    "# ต้อง reshape ให้เป็น (1, 60, 2) → 1 sample, 60 time steps, 2 features\n",
    "X_test = X_test.reshape(1,30, 2)\n"
   ]
  },
  {
   "cell_type": "code",
   "execution_count": 187,
   "id": "e327d500-d4fc-4a7b-8e96-c4fb33c53961",
   "metadata": {},
   "outputs": [
    {
     "name": "stdout",
     "output_type": "stream",
     "text": [
      "\u001b[1m1/1\u001b[0m \u001b[32m━━━━━━━━━━━━━━━━━━━━\u001b[0m\u001b[37m\u001b[0m \u001b[1m0s\u001b[0m 16ms/step\n",
      "0.058375973\n"
     ]
    }
   ],
   "source": [
    "y_pred = model.predict(X_test)\n",
    "\n",
    "print(y_pred[0][0])"
   ]
  },
  {
   "cell_type": "code",
   "execution_count": null,
   "id": "a7bf56ba-2852-4f48-b6d3-f7cb430e8560",
   "metadata": {},
   "outputs": [],
   "source": []
  }
 ],
 "metadata": {
  "kernelspec": {
   "display_name": "Python 3 (ipykernel)",
   "language": "python",
   "name": "python3"
  },
  "language_info": {
   "codemirror_mode": {
    "name": "ipython",
    "version": 3
   },
   "file_extension": ".py",
   "mimetype": "text/x-python",
   "name": "python",
   "nbconvert_exporter": "python",
   "pygments_lexer": "ipython3",
   "version": "3.12.4"
  }
 },
 "nbformat": 4,
 "nbformat_minor": 5
}
